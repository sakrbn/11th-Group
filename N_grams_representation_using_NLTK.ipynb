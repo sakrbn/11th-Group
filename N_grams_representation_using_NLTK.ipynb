{
  "nbformat": 4,
  "nbformat_minor": 0,
  "metadata": {
    "colab": {
      "provenance": [],
      "include_colab_link": true
    },
    "kernelspec": {
      "name": "python3",
      "display_name": "Python 3"
    },
    "language_info": {
      "name": "python"
    }
  },
  "cells": [
    {
      "cell_type": "markdown",
      "metadata": {
        "id": "view-in-github",
        "colab_type": "text"
      },
      "source": [
        "<a href=\"https://colab.research.google.com/github/sakrbn/11th-Group/blob/main/N_grams_representation_using_NLTK.ipynb\" target=\"_parent\"><img src=\"https://colab.research.google.com/assets/colab-badge.svg\" alt=\"Open In Colab\"/></a>"
      ]
    },
    {
      "cell_type": "code",
      "execution_count": null,
      "metadata": {
        "id": "dt9GgWjCCws_"
      },
      "outputs": [],
      "source": [
        "import nltk\n",
        "from nltk.util import ngrams"
      ]
    },
    {
      "cell_type": "code",
      "source": [
        "sentence = \"Natural Language Processing for Speech and Text data.\""
      ],
      "metadata": {
        "id": "8g1yTEpHNuzD"
      },
      "execution_count": null,
      "outputs": []
    },
    {
      "cell_type": "code",
      "source": [
        "nltk.download('punkt')"
      ],
      "metadata": {
        "colab": {
          "base_uri": "https://localhost:8080/"
        },
        "id": "2CW20V70OBha",
        "outputId": "f3291ae7-404c-4069-ef7d-3cb4dd10c3dd"
      },
      "execution_count": null,
      "outputs": [
        {
          "output_type": "stream",
          "name": "stderr",
          "text": [
            "[nltk_data] Downloading package punkt to /root/nltk_data...\n",
            "[nltk_data]   Unzipping tokenizers/punkt.zip.\n"
          ]
        },
        {
          "output_type": "execute_result",
          "data": {
            "text/plain": [
              "True"
            ]
          },
          "metadata": {},
          "execution_count": 4
        }
      ]
    },
    {
      "cell_type": "code",
      "source": [
        "words = nltk.word_tokenize(sentence)\n",
        "words"
      ],
      "metadata": {
        "colab": {
          "base_uri": "https://localhost:8080/"
        },
        "id": "GY5biuyHN1-D",
        "outputId": "46e3441a-df90-4829-8b34-760e7682bb85"
      },
      "execution_count": null,
      "outputs": [
        {
          "output_type": "execute_result",
          "data": {
            "text/plain": [
              "['Natural',\n",
              " 'Language',\n",
              " 'Processing',\n",
              " 'for',\n",
              " 'Speech',\n",
              " 'and',\n",
              " 'Text',\n",
              " 'data',\n",
              " '.']"
            ]
          },
          "metadata": {},
          "execution_count": 5
        }
      ]
    },
    {
      "cell_type": "code",
      "source": [
        "list(ngrams(words, 1))"
      ],
      "metadata": {
        "colab": {
          "base_uri": "https://localhost:8080/"
        },
        "id": "FSghPj8sN6q7",
        "outputId": "840c7771-5932-4164-ef64-dea668ad6397"
      },
      "execution_count": null,
      "outputs": [
        {
          "output_type": "execute_result",
          "data": {
            "text/plain": [
              "[('Natural',),\n",
              " ('Language',),\n",
              " ('Processing',),\n",
              " ('for',),\n",
              " ('Speech',),\n",
              " ('and',),\n",
              " ('Text',),\n",
              " ('data',),\n",
              " ('.',)]"
            ]
          },
          "metadata": {},
          "execution_count": 6
        }
      ]
    },
    {
      "cell_type": "code",
      "source": [
        "type(('Natural',))"
      ],
      "metadata": {
        "colab": {
          "base_uri": "https://localhost:8080/"
        },
        "id": "P8uKJ4-DOOXA",
        "outputId": "300952c6-c38e-4c3e-d9ba-bf354b49c649"
      },
      "execution_count": null,
      "outputs": [
        {
          "output_type": "execute_result",
          "data": {
            "text/plain": [
              "tuple"
            ]
          },
          "metadata": {},
          "execution_count": 7
        }
      ]
    },
    {
      "cell_type": "code",
      "source": [
        "list(ngrams(words, 2))"
      ],
      "metadata": {
        "colab": {
          "base_uri": "https://localhost:8080/"
        },
        "id": "TavaldlfOXuc",
        "outputId": "a502917b-df68-4cba-8c1c-6aa0cea798bb"
      },
      "execution_count": null,
      "outputs": [
        {
          "output_type": "execute_result",
          "data": {
            "text/plain": [
              "[('Natural', 'Language'),\n",
              " ('Language', 'Processing'),\n",
              " ('Processing', 'for'),\n",
              " ('for', 'Speech'),\n",
              " ('Speech', 'and'),\n",
              " ('and', 'Text'),\n",
              " ('Text', 'data'),\n",
              " ('data', '.')]"
            ]
          },
          "metadata": {},
          "execution_count": 8
        }
      ]
    },
    {
      "cell_type": "code",
      "source": [
        "trigrams = list(ngrams(words, 3))\n",
        "trigrams"
      ],
      "metadata": {
        "id": "_YBBYXn4ObVF",
        "outputId": "7dd058bc-9cd5-4847-9f8b-3288c3472624",
        "colab": {
          "base_uri": "https://localhost:8080/"
        }
      },
      "execution_count": null,
      "outputs": [
        {
          "output_type": "execute_result",
          "data": {
            "text/plain": [
              "[('Natural', 'Language', 'Processing'),\n",
              " ('Language', 'Processing', 'for'),\n",
              " ('Processing', 'for', 'Speech'),\n",
              " ('for', 'Speech', 'and'),\n",
              " ('Speech', 'and', 'Text'),\n",
              " ('and', 'Text', 'data'),\n",
              " ('Text', 'data', '.')]"
            ]
          },
          "metadata": {},
          "execution_count": 9
        }
      ]
    },
    {
      "cell_type": "code",
      "source": [],
      "metadata": {
        "id": "MdRfm0lzOhPJ"
      },
      "execution_count": null,
      "outputs": []
    }
  ]
}