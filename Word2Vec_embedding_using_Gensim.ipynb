{
  "nbformat": 4,
  "nbformat_minor": 0,
  "metadata": {
    "colab": {
      "provenance": [],
      "include_colab_link": true
    },
    "kernelspec": {
      "name": "python3",
      "display_name": "Python 3"
    },
    "language_info": {
      "name": "python"
    }
  },
  "cells": [
    {
      "cell_type": "markdown",
      "metadata": {
        "id": "view-in-github",
        "colab_type": "text"
      },
      "source": [
        "<a href=\"https://colab.research.google.com/github/sakrbn/11th-Group/blob/main/Word2Vec_embedding_using_Gensim.ipynb\" target=\"_parent\"><img src=\"https://colab.research.google.com/assets/colab-badge.svg\" alt=\"Open In Colab\"/></a>"
      ]
    },
    {
      "cell_type": "markdown",
      "source": [
        "[Gensim](https://radimrehurek.com/gensim/intro.html)"
      ],
      "metadata": {
        "id": "FMqHC_z6c8sR"
      }
    },
    {
      "cell_type": "code",
      "source": [
        "import gensim\n",
        "from gensim.models import Word2Vec\n",
        "import nltk\n",
        "from nltk.tokenize import word_tokenize\n",
        "nltk.download('punkt_tab')\n",
        "nltk.download('punkt')"
      ],
      "metadata": {
        "colab": {
          "base_uri": "https://localhost:8080/"
        },
        "id": "S53Rmy6idZ4D",
        "outputId": "2508700a-7a6d-4ec2-d0e4-241225f7ab4c"
      },
      "execution_count": 5,
      "outputs": [
        {
          "output_type": "stream",
          "name": "stderr",
          "text": [
            "[nltk_data] Downloading package punkt_tab to /root/nltk_data...\n",
            "[nltk_data]   Unzipping tokenizers/punkt_tab.zip.\n",
            "[nltk_data] Downloading package punkt to /root/nltk_data...\n",
            "[nltk_data]   Package punkt is already up-to-date!\n"
          ]
        },
        {
          "output_type": "execute_result",
          "data": {
            "text/plain": [
              "True"
            ]
          },
          "metadata": {},
          "execution_count": 5
        }
      ]
    },
    {
      "cell_type": "code",
      "source": [
        "sentences = [\n",
        "    \"I deposited money in the bank.\",\n",
        "    \"We sat on the riverbank and watched the boats.\",\n",
        "    \"The pilot had to bank the plane sharply to the left.\",\n",
        "    \"The children sledded down the bank of the hill.\",\n",
        "    \"The company has a large bank of customer data.\",\n",
        "    \"There was a bank of monitors in the control room.\",\n",
        "    \"We need to bank the fire with more logs.\",\n",
        "    \"He made a bank shot to pocket the ball.\"\n",
        "]"
      ],
      "metadata": {
        "id": "hEHUpCNEdr04"
      },
      "execution_count": 6,
      "outputs": []
    },
    {
      "cell_type": "code",
      "source": [
        "tokenized_sentences = [word_tokenize(sentence.lower()) for sentence in sentences]"
      ],
      "metadata": {
        "id": "vlt4D6HWdzYp"
      },
      "execution_count": 7,
      "outputs": []
    },
    {
      "cell_type": "code",
      "source": [
        "tokenized_sentences"
      ],
      "metadata": {
        "colab": {
          "base_uri": "https://localhost:8080/"
        },
        "id": "mzBQ6cnad5RU",
        "outputId": "c5432cf5-9af4-4229-9902-8dedd1a8bc64"
      },
      "execution_count": null,
      "outputs": [
        {
          "output_type": "execute_result",
          "data": {
            "text/plain": [
              "[['i', 'deposited', 'money', 'in', 'the', 'bank', '.'],\n",
              " ['we',\n",
              "  'sat',\n",
              "  'on',\n",
              "  'the',\n",
              "  'riverbank',\n",
              "  'and',\n",
              "  'watched',\n",
              "  'the',\n",
              "  'boats',\n",
              "  '.'],\n",
              " ['the',\n",
              "  'pilot',\n",
              "  'had',\n",
              "  'to',\n",
              "  'bank',\n",
              "  'the',\n",
              "  'plane',\n",
              "  'sharply',\n",
              "  'to',\n",
              "  'the',\n",
              "  'left',\n",
              "  '.'],\n",
              " ['the',\n",
              "  'children',\n",
              "  'sledded',\n",
              "  'down',\n",
              "  'the',\n",
              "  'bank',\n",
              "  'of',\n",
              "  'the',\n",
              "  'hill',\n",
              "  '.'],\n",
              " ['the',\n",
              "  'company',\n",
              "  'has',\n",
              "  'a',\n",
              "  'large',\n",
              "  'bank',\n",
              "  'of',\n",
              "  'customer',\n",
              "  'data',\n",
              "  '.'],\n",
              " ['there',\n",
              "  'was',\n",
              "  'a',\n",
              "  'bank',\n",
              "  'of',\n",
              "  'monitors',\n",
              "  'in',\n",
              "  'the',\n",
              "  'control',\n",
              "  'room',\n",
              "  '.'],\n",
              " ['we', 'need', 'to', 'bank', 'the', 'fire', 'with', 'more', 'logs', '.'],\n",
              " ['he', 'made', 'a', 'bank', 'shot', 'to', 'pocket', 'the', 'ball', '.']]"
            ]
          },
          "metadata": {},
          "execution_count": 4
        }
      ]
    },
    {
      "cell_type": "code",
      "source": [
        "model = Word2Vec(sentences=tokenized_sentences,vector_size=50, window=5, min_count=1,workers=4)"
      ],
      "metadata": {
        "id": "dQPb3iIyd6yH"
      },
      "execution_count": 8,
      "outputs": []
    },
    {
      "cell_type": "code",
      "source": [
        "model.wv['bank']"
      ],
      "metadata": {
        "colab": {
          "base_uri": "https://localhost:8080/"
        },
        "id": "MMtjEWZ9eUH6",
        "outputId": "41d1abca-1a44-43f3-a7ef-9ccb6612c39f"
      },
      "execution_count": 9,
      "outputs": [
        {
          "output_type": "execute_result",
          "data": {
            "text/plain": [
              "array([-0.01728181,  0.00737612,  0.01035909,  0.01150181,  0.01499099,\n",
              "       -0.01242174,  0.00223063,  0.01206875, -0.00575533, -0.01238981,\n",
              "       -0.00085546, -0.01682934, -0.01117731,  0.01422747,  0.00671371,\n",
              "        0.01449475,  0.01363261,  0.01515074, -0.00766962, -0.0011717 ,\n",
              "        0.00470623, -0.00899262,  0.01681534, -0.01976627,  0.01361018,\n",
              "        0.00582809, -0.00984593,  0.00885774, -0.00351583,  0.01345662,\n",
              "        0.01996012, -0.00878694, -0.00117245, -0.01140733,  0.00766238,\n",
              "        0.005556  ,  0.01389243,  0.01221332,  0.01907913,  0.01858806,\n",
              "        0.01583779, -0.01401761, -0.01834192, -0.00069259, -0.0061448 ,\n",
              "        0.01582421,  0.0119172 , -0.00313415,  0.00302355,  0.00363573],\n",
              "      dtype=float32)"
            ]
          },
          "metadata": {},
          "execution_count": 9
        }
      ]
    },
    {
      "cell_type": "code",
      "source": [
        "model.wv['money']"
      ],
      "metadata": {
        "colab": {
          "base_uri": "https://localhost:8080/"
        },
        "id": "YJDCS0XKeZ3d",
        "outputId": "1c39cbd9-b1b2-4f46-ee4d-360dcc1b5d1c"
      },
      "execution_count": 10,
      "outputs": [
        {
          "output_type": "execute_result",
          "data": {
            "text/plain": [
              "array([-1.06610227e-02, -2.53027235e-03, -1.47320293e-02,  3.91815184e-03,\n",
              "        6.57771574e-03, -5.82075481e-05, -1.08715277e-02, -3.44986515e-03,\n",
              "        1.41555863e-02,  7.48602534e-03, -1.77881327e-02, -6.85261423e-03,\n",
              "        4.69095074e-03,  4.27593198e-03, -1.89209580e-02,  9.16616619e-03,\n",
              "       -1.73068698e-02, -1.47476010e-02,  6.95946347e-03, -6.97002839e-03,\n",
              "        7.14148954e-03,  1.77867543e-02, -7.12059345e-03,  1.86387282e-02,\n",
              "        3.44383018e-03,  1.97120793e-02,  1.14312051e-02, -1.82847679e-02,\n",
              "       -6.66898256e-03,  1.30755613e-02,  1.12058120e-02,  1.74217261e-02,\n",
              "        1.38739403e-02,  1.60585698e-02, -1.96432006e-02,  8.60199332e-03,\n",
              "       -1.00249797e-02,  7.03612994e-03,  1.21285366e-02,  8.80484097e-03,\n",
              "        1.50543749e-02,  2.98968749e-03, -2.53585447e-03,  1.15517592e-02,\n",
              "       -1.12430295e-02,  9.38537560e-05,  1.89125072e-02, -1.09808063e-02,\n",
              "        7.63829798e-03, -1.62162129e-02], dtype=float32)"
            ]
          },
          "metadata": {},
          "execution_count": 10
        }
      ]
    },
    {
      "cell_type": "code",
      "source": [
        "model.wv.most_similar('bank')"
      ],
      "metadata": {
        "colab": {
          "base_uri": "https://localhost:8080/"
        },
        "id": "PQG3hsCdegKf",
        "outputId": "3c250e64-71ad-45e2-ee5a-d6c4ff198756"
      },
      "execution_count": null,
      "outputs": [
        {
          "output_type": "execute_result",
          "data": {
            "text/plain": [
              "[('hill', 0.25058719515800476),\n",
              " ('control', 0.248787522315979),\n",
              " ('company', 0.2001895308494568),\n",
              " ('riverbank', 0.19627606868743896),\n",
              " ('of', 0.16912315785884857),\n",
              " ('sharply', 0.1572345793247223),\n",
              " ('has', 0.15230552852153778),\n",
              " ('children', 0.14429044723510742),\n",
              " ('room', 0.14414925873279572),\n",
              " ('boats', 0.14389565587043762)]"
            ]
          },
          "metadata": {},
          "execution_count": 8
        }
      ]
    },
    {
      "cell_type": "code",
      "source": [
        "model.wv.most_similar('pilot', topn=5)"
      ],
      "metadata": {
        "colab": {
          "base_uri": "https://localhost:8080/"
        },
        "id": "ohbMRnizen7S",
        "outputId": "8c520ae9-e2e1-4184-ebb3-ab21ed5341ce"
      },
      "execution_count": null,
      "outputs": [
        {
          "output_type": "execute_result",
          "data": {
            "text/plain": [
              "[('made', 0.26452746987342834),\n",
              " ('has', 0.25488507747650146),\n",
              " ('large', 0.23481790721416473),\n",
              " ('a', 0.22521759569644928),\n",
              " ('pocket', 0.20060963928699493)]"
            ]
          },
          "metadata": {},
          "execution_count": 9
        }
      ]
    },
    {
      "cell_type": "code",
      "source": [
        "model_2 = Word2Vec(sentences=tokenized_sentences,vector_size=100, window=10, min_count=2,workers=4)"
      ],
      "metadata": {
        "id": "gQI8sliCeyvZ"
      },
      "execution_count": null,
      "outputs": []
    },
    {
      "cell_type": "code",
      "source": [
        "model_2.wv['bank']"
      ],
      "metadata": {
        "colab": {
          "base_uri": "https://localhost:8080/"
        },
        "id": "JHy20BSxfIW-",
        "outputId": "24dca53f-87f5-48a4-806d-8d2cb1a55210"
      },
      "execution_count": null,
      "outputs": [
        {
          "output_type": "execute_result",
          "data": {
            "text/plain": [
              "array([ 9.3978757e-05,  3.0780244e-03, -6.8156361e-03, -1.3784093e-03,\n",
              "        7.6686381e-03,  7.3489589e-03, -3.6719532e-03,  2.6447270e-03,\n",
              "       -8.3227903e-03,  6.2054349e-03, -4.6390877e-03, -3.1655696e-03,\n",
              "        9.3125161e-03,  8.7311247e-04,  7.4915169e-03, -6.0788784e-03,\n",
              "        5.1627886e-03,  9.9263908e-03, -8.4608113e-03, -5.1401183e-03,\n",
              "       -7.0697260e-03, -4.8651723e-03, -3.7754369e-03, -8.5368352e-03,\n",
              "        7.9567954e-03, -4.8462050e-03,  8.4271654e-03,  5.2605919e-03,\n",
              "       -6.5519451e-03,  3.9607245e-03,  5.4753297e-03, -7.4296966e-03,\n",
              "       -7.4098823e-03, -2.4777823e-03, -8.6302832e-03, -1.5790996e-03,\n",
              "       -4.0347141e-04,  3.3003313e-03,  1.4424932e-03, -8.8474964e-04,\n",
              "       -5.5916780e-03,  1.7275510e-03, -8.9786854e-04,  6.7938487e-03,\n",
              "        3.9756140e-03,  4.5324480e-03,  1.4328570e-03, -2.7009991e-03,\n",
              "       -4.3696142e-03, -1.0335402e-03,  1.4382778e-03, -2.6514216e-03,\n",
              "       -7.0761140e-03, -7.8050653e-03, -9.1297757e-03, -5.9387404e-03,\n",
              "       -1.8458010e-03, -4.3296530e-03, -6.4666681e-03, -3.7228486e-03,\n",
              "        4.2930669e-03, -3.7416646e-03,  8.3854003e-03,  1.5325681e-03,\n",
              "       -7.2446703e-03,  9.4394227e-03,  7.6328246e-03,  5.4948810e-03,\n",
              "       -6.8551647e-03,  5.8211200e-03,  4.0108166e-03,  5.1905345e-03,\n",
              "        4.2591086e-03,  1.9432496e-03, -3.1699459e-03,  8.3575565e-03,\n",
              "        9.6140774e-03,  3.7963875e-03, -2.8386412e-03,  9.7717584e-06,\n",
              "        1.2228028e-03, -8.4648421e-03, -8.2269199e-03, -2.3324398e-04,\n",
              "        1.2371333e-03, -5.7493807e-03, -4.7262646e-03, -7.3472862e-03,\n",
              "        8.3296122e-03,  1.2215062e-04, -4.5090723e-03,  5.7064588e-03,\n",
              "        9.1801994e-03, -4.1023339e-03,  7.9702679e-03,  5.3790566e-03,\n",
              "        5.8827177e-03,  5.0895504e-04,  8.2165552e-03, -7.0222337e-03],\n",
              "      dtype=float32)"
            ]
          },
          "metadata": {},
          "execution_count": 11
        }
      ]
    },
    {
      "cell_type": "code",
      "source": [
        "model_2.wv['money']"
      ],
      "metadata": {
        "colab": {
          "base_uri": "https://localhost:8080/",
          "height": 287
        },
        "id": "AGVhgyaSfMee",
        "outputId": "a074cb7d-32fc-43d2-9d12-e815546a580e"
      },
      "execution_count": null,
      "outputs": [
        {
          "output_type": "error",
          "ename": "KeyError",
          "evalue": "\"Key 'money' not present\"",
          "traceback": [
            "\u001b[0;31m---------------------------------------------------------------------------\u001b[0m",
            "\u001b[0;31mKeyError\u001b[0m                                  Traceback (most recent call last)",
            "\u001b[0;32m<ipython-input-12-a53f274fae7c>\u001b[0m in \u001b[0;36m<cell line: 1>\u001b[0;34m()\u001b[0m\n\u001b[0;32m----> 1\u001b[0;31m \u001b[0mmodel_2\u001b[0m\u001b[0;34m.\u001b[0m\u001b[0mwv\u001b[0m\u001b[0;34m[\u001b[0m\u001b[0;34m'money'\u001b[0m\u001b[0;34m]\u001b[0m\u001b[0;34m\u001b[0m\u001b[0;34m\u001b[0m\u001b[0m\n\u001b[0m",
            "\u001b[0;32m/usr/local/lib/python3.10/dist-packages/gensim/models/keyedvectors.py\u001b[0m in \u001b[0;36m__getitem__\u001b[0;34m(self, key_or_keys)\u001b[0m\n\u001b[1;32m    401\u001b[0m         \"\"\"\n\u001b[1;32m    402\u001b[0m         \u001b[0;32mif\u001b[0m \u001b[0misinstance\u001b[0m\u001b[0;34m(\u001b[0m\u001b[0mkey_or_keys\u001b[0m\u001b[0;34m,\u001b[0m \u001b[0m_KEY_TYPES\u001b[0m\u001b[0;34m)\u001b[0m\u001b[0;34m:\u001b[0m\u001b[0;34m\u001b[0m\u001b[0;34m\u001b[0m\u001b[0m\n\u001b[0;32m--> 403\u001b[0;31m             \u001b[0;32mreturn\u001b[0m \u001b[0mself\u001b[0m\u001b[0;34m.\u001b[0m\u001b[0mget_vector\u001b[0m\u001b[0;34m(\u001b[0m\u001b[0mkey_or_keys\u001b[0m\u001b[0;34m)\u001b[0m\u001b[0;34m\u001b[0m\u001b[0;34m\u001b[0m\u001b[0m\n\u001b[0m\u001b[1;32m    404\u001b[0m \u001b[0;34m\u001b[0m\u001b[0m\n\u001b[1;32m    405\u001b[0m         \u001b[0;32mreturn\u001b[0m \u001b[0mvstack\u001b[0m\u001b[0;34m(\u001b[0m\u001b[0;34m[\u001b[0m\u001b[0mself\u001b[0m\u001b[0;34m.\u001b[0m\u001b[0mget_vector\u001b[0m\u001b[0;34m(\u001b[0m\u001b[0mkey\u001b[0m\u001b[0;34m)\u001b[0m \u001b[0;32mfor\u001b[0m \u001b[0mkey\u001b[0m \u001b[0;32min\u001b[0m \u001b[0mkey_or_keys\u001b[0m\u001b[0;34m]\u001b[0m\u001b[0;34m)\u001b[0m\u001b[0;34m\u001b[0m\u001b[0;34m\u001b[0m\u001b[0m\n",
            "\u001b[0;32m/usr/local/lib/python3.10/dist-packages/gensim/models/keyedvectors.py\u001b[0m in \u001b[0;36mget_vector\u001b[0;34m(self, key, norm)\u001b[0m\n\u001b[1;32m    444\u001b[0m \u001b[0;34m\u001b[0m\u001b[0m\n\u001b[1;32m    445\u001b[0m         \"\"\"\n\u001b[0;32m--> 446\u001b[0;31m         \u001b[0mindex\u001b[0m \u001b[0;34m=\u001b[0m \u001b[0mself\u001b[0m\u001b[0;34m.\u001b[0m\u001b[0mget_index\u001b[0m\u001b[0;34m(\u001b[0m\u001b[0mkey\u001b[0m\u001b[0;34m)\u001b[0m\u001b[0;34m\u001b[0m\u001b[0;34m\u001b[0m\u001b[0m\n\u001b[0m\u001b[1;32m    447\u001b[0m         \u001b[0;32mif\u001b[0m \u001b[0mnorm\u001b[0m\u001b[0;34m:\u001b[0m\u001b[0;34m\u001b[0m\u001b[0;34m\u001b[0m\u001b[0m\n\u001b[1;32m    448\u001b[0m             \u001b[0mself\u001b[0m\u001b[0;34m.\u001b[0m\u001b[0mfill_norms\u001b[0m\u001b[0;34m(\u001b[0m\u001b[0;34m)\u001b[0m\u001b[0;34m\u001b[0m\u001b[0;34m\u001b[0m\u001b[0m\n",
            "\u001b[0;32m/usr/local/lib/python3.10/dist-packages/gensim/models/keyedvectors.py\u001b[0m in \u001b[0;36mget_index\u001b[0;34m(self, key, default)\u001b[0m\n\u001b[1;32m    418\u001b[0m             \u001b[0;32mreturn\u001b[0m \u001b[0mdefault\u001b[0m\u001b[0;34m\u001b[0m\u001b[0;34m\u001b[0m\u001b[0m\n\u001b[1;32m    419\u001b[0m         \u001b[0;32melse\u001b[0m\u001b[0;34m:\u001b[0m\u001b[0;34m\u001b[0m\u001b[0;34m\u001b[0m\u001b[0m\n\u001b[0;32m--> 420\u001b[0;31m             \u001b[0;32mraise\u001b[0m \u001b[0mKeyError\u001b[0m\u001b[0;34m(\u001b[0m\u001b[0;34mf\"Key '{key}' not present\"\u001b[0m\u001b[0;34m)\u001b[0m\u001b[0;34m\u001b[0m\u001b[0;34m\u001b[0m\u001b[0m\n\u001b[0m\u001b[1;32m    421\u001b[0m \u001b[0;34m\u001b[0m\u001b[0m\n\u001b[1;32m    422\u001b[0m     \u001b[0;32mdef\u001b[0m \u001b[0mget_vector\u001b[0m\u001b[0;34m(\u001b[0m\u001b[0mself\u001b[0m\u001b[0;34m,\u001b[0m \u001b[0mkey\u001b[0m\u001b[0;34m,\u001b[0m \u001b[0mnorm\u001b[0m\u001b[0;34m=\u001b[0m\u001b[0;32mFalse\u001b[0m\u001b[0;34m)\u001b[0m\u001b[0;34m:\u001b[0m\u001b[0;34m\u001b[0m\u001b[0;34m\u001b[0m\u001b[0m\n",
            "\u001b[0;31mKeyError\u001b[0m: \"Key 'money' not present\""
          ]
        }
      ]
    },
    {
      "cell_type": "code",
      "source": [
        "model_2.wv['riverbank']"
      ],
      "metadata": {
        "colab": {
          "base_uri": "https://localhost:8080/",
          "height": 287
        },
        "id": "vSGBq3o2fUNw",
        "outputId": "cc00bd02-cc74-48fe-e10c-5d5ce3f65c83"
      },
      "execution_count": null,
      "outputs": [
        {
          "output_type": "error",
          "ename": "KeyError",
          "evalue": "\"Key 'riverbank' not present\"",
          "traceback": [
            "\u001b[0;31m---------------------------------------------------------------------------\u001b[0m",
            "\u001b[0;31mKeyError\u001b[0m                                  Traceback (most recent call last)",
            "\u001b[0;32m<ipython-input-15-37501aa2b3e1>\u001b[0m in \u001b[0;36m<cell line: 1>\u001b[0;34m()\u001b[0m\n\u001b[0;32m----> 1\u001b[0;31m \u001b[0mmodel_2\u001b[0m\u001b[0;34m.\u001b[0m\u001b[0mwv\u001b[0m\u001b[0;34m[\u001b[0m\u001b[0;34m'riverbank'\u001b[0m\u001b[0;34m]\u001b[0m\u001b[0;34m\u001b[0m\u001b[0;34m\u001b[0m\u001b[0m\n\u001b[0m",
            "\u001b[0;32m/usr/local/lib/python3.10/dist-packages/gensim/models/keyedvectors.py\u001b[0m in \u001b[0;36m__getitem__\u001b[0;34m(self, key_or_keys)\u001b[0m\n\u001b[1;32m    401\u001b[0m         \"\"\"\n\u001b[1;32m    402\u001b[0m         \u001b[0;32mif\u001b[0m \u001b[0misinstance\u001b[0m\u001b[0;34m(\u001b[0m\u001b[0mkey_or_keys\u001b[0m\u001b[0;34m,\u001b[0m \u001b[0m_KEY_TYPES\u001b[0m\u001b[0;34m)\u001b[0m\u001b[0;34m:\u001b[0m\u001b[0;34m\u001b[0m\u001b[0;34m\u001b[0m\u001b[0m\n\u001b[0;32m--> 403\u001b[0;31m             \u001b[0;32mreturn\u001b[0m \u001b[0mself\u001b[0m\u001b[0;34m.\u001b[0m\u001b[0mget_vector\u001b[0m\u001b[0;34m(\u001b[0m\u001b[0mkey_or_keys\u001b[0m\u001b[0;34m)\u001b[0m\u001b[0;34m\u001b[0m\u001b[0;34m\u001b[0m\u001b[0m\n\u001b[0m\u001b[1;32m    404\u001b[0m \u001b[0;34m\u001b[0m\u001b[0m\n\u001b[1;32m    405\u001b[0m         \u001b[0;32mreturn\u001b[0m \u001b[0mvstack\u001b[0m\u001b[0;34m(\u001b[0m\u001b[0;34m[\u001b[0m\u001b[0mself\u001b[0m\u001b[0;34m.\u001b[0m\u001b[0mget_vector\u001b[0m\u001b[0;34m(\u001b[0m\u001b[0mkey\u001b[0m\u001b[0;34m)\u001b[0m \u001b[0;32mfor\u001b[0m \u001b[0mkey\u001b[0m \u001b[0;32min\u001b[0m \u001b[0mkey_or_keys\u001b[0m\u001b[0;34m]\u001b[0m\u001b[0;34m)\u001b[0m\u001b[0;34m\u001b[0m\u001b[0;34m\u001b[0m\u001b[0m\n",
            "\u001b[0;32m/usr/local/lib/python3.10/dist-packages/gensim/models/keyedvectors.py\u001b[0m in \u001b[0;36mget_vector\u001b[0;34m(self, key, norm)\u001b[0m\n\u001b[1;32m    444\u001b[0m \u001b[0;34m\u001b[0m\u001b[0m\n\u001b[1;32m    445\u001b[0m         \"\"\"\n\u001b[0;32m--> 446\u001b[0;31m         \u001b[0mindex\u001b[0m \u001b[0;34m=\u001b[0m \u001b[0mself\u001b[0m\u001b[0;34m.\u001b[0m\u001b[0mget_index\u001b[0m\u001b[0;34m(\u001b[0m\u001b[0mkey\u001b[0m\u001b[0;34m)\u001b[0m\u001b[0;34m\u001b[0m\u001b[0;34m\u001b[0m\u001b[0m\n\u001b[0m\u001b[1;32m    447\u001b[0m         \u001b[0;32mif\u001b[0m \u001b[0mnorm\u001b[0m\u001b[0;34m:\u001b[0m\u001b[0;34m\u001b[0m\u001b[0;34m\u001b[0m\u001b[0m\n\u001b[1;32m    448\u001b[0m             \u001b[0mself\u001b[0m\u001b[0;34m.\u001b[0m\u001b[0mfill_norms\u001b[0m\u001b[0;34m(\u001b[0m\u001b[0;34m)\u001b[0m\u001b[0;34m\u001b[0m\u001b[0;34m\u001b[0m\u001b[0m\n",
            "\u001b[0;32m/usr/local/lib/python3.10/dist-packages/gensim/models/keyedvectors.py\u001b[0m in \u001b[0;36mget_index\u001b[0;34m(self, key, default)\u001b[0m\n\u001b[1;32m    418\u001b[0m             \u001b[0;32mreturn\u001b[0m \u001b[0mdefault\u001b[0m\u001b[0;34m\u001b[0m\u001b[0;34m\u001b[0m\u001b[0m\n\u001b[1;32m    419\u001b[0m         \u001b[0;32melse\u001b[0m\u001b[0;34m:\u001b[0m\u001b[0;34m\u001b[0m\u001b[0;34m\u001b[0m\u001b[0m\n\u001b[0;32m--> 420\u001b[0;31m             \u001b[0;32mraise\u001b[0m \u001b[0mKeyError\u001b[0m\u001b[0;34m(\u001b[0m\u001b[0;34mf\"Key '{key}' not present\"\u001b[0m\u001b[0;34m)\u001b[0m\u001b[0;34m\u001b[0m\u001b[0;34m\u001b[0m\u001b[0m\n\u001b[0m\u001b[1;32m    421\u001b[0m \u001b[0;34m\u001b[0m\u001b[0m\n\u001b[1;32m    422\u001b[0m     \u001b[0;32mdef\u001b[0m \u001b[0mget_vector\u001b[0m\u001b[0;34m(\u001b[0m\u001b[0mself\u001b[0m\u001b[0;34m,\u001b[0m \u001b[0mkey\u001b[0m\u001b[0;34m,\u001b[0m \u001b[0mnorm\u001b[0m\u001b[0;34m=\u001b[0m\u001b[0;32mFalse\u001b[0m\u001b[0;34m)\u001b[0m\u001b[0;34m:\u001b[0m\u001b[0;34m\u001b[0m\u001b[0;34m\u001b[0m\u001b[0m\n",
            "\u001b[0;31mKeyError\u001b[0m: \"Key 'riverbank' not present\""
          ]
        }
      ]
    },
    {
      "cell_type": "code",
      "source": [
        "model_2.wv.most_similar('bank')"
      ],
      "metadata": {
        "colab": {
          "base_uri": "https://localhost:8080/"
        },
        "id": "WB22s5-Wfcke",
        "outputId": "ac231454-c3f1-4cf4-9995-c044aeb1d909"
      },
      "execution_count": null,
      "outputs": [
        {
          "output_type": "execute_result",
          "data": {
            "text/plain": [
              "[('a', 0.17023183405399323),\n",
              " ('we', 0.14647887647151947),\n",
              " ('of', 0.06456515192985535),\n",
              " ('in', -0.0027711596339941025),\n",
              " ('to', -0.013223414309322834),\n",
              " ('.', -0.023544520139694214),\n",
              " ('the', -0.052359383553266525)]"
            ]
          },
          "metadata": {},
          "execution_count": 16
        }
      ]
    },
    {
      "cell_type": "code",
      "source": [
        "model.save(\"bank_word2vec.model\")"
      ],
      "metadata": {
        "id": "Sx_5LVyMfuVp"
      },
      "execution_count": null,
      "outputs": []
    },
    {
      "cell_type": "code",
      "source": [
        "model = Word2Vec.load(\"bank_word2vec.model\")"
      ],
      "metadata": {
        "id": "tmWTxFeWgFbF"
      },
      "execution_count": null,
      "outputs": []
    },
    {
      "cell_type": "code",
      "source": [],
      "metadata": {
        "id": "kDy1Pu_1gKLZ"
      },
      "execution_count": null,
      "outputs": []
    }
  ]
}