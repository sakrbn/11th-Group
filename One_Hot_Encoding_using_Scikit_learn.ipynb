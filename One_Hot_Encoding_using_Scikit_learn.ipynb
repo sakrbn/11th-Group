{
  "nbformat": 4,
  "nbformat_minor": 0,
  "metadata": {
    "colab": {
      "provenance": [],
      "include_colab_link": true
    },
    "kernelspec": {
      "name": "python3",
      "display_name": "Python 3"
    },
    "language_info": {
      "name": "python"
    }
  },
  "cells": [
    {
      "cell_type": "markdown",
      "metadata": {
        "id": "view-in-github",
        "colab_type": "text"
      },
      "source": [
        "<a href=\"https://colab.research.google.com/github/sakrbn/11th-Group/blob/main/One_Hot_Encoding_using_Scikit_learn.ipynb\" target=\"_parent\"><img src=\"https://colab.research.google.com/assets/colab-badge.svg\" alt=\"Open In Colab\"/></a>"
      ]
    },
    {
      "cell_type": "markdown",
      "source": [
        "[Scikit Learn](https://scikit-learn.org/)"
      ],
      "metadata": {
        "id": "arY5F4w_w1cE"
      }
    },
    {
      "cell_type": "code",
      "source": [
        "from sklearn.preprocessing import OneHotEncoder\n",
        "import numpy as np"
      ],
      "metadata": {
        "id": "jowa0HH0xIZI"
      },
      "execution_count": null,
      "outputs": []
    },
    {
      "cell_type": "code",
      "source": [
        "vocabulary = ['Natural', 'Language', 'Processing', 'for', 'Text', 'and', 'Speech']"
      ],
      "metadata": {
        "id": "wm09_HT0xPxO"
      },
      "execution_count": null,
      "outputs": []
    },
    {
      "cell_type": "code",
      "source": [
        "vocabulary_reshaped = np.array(vocabulary).reshape(-1, 1)"
      ],
      "metadata": {
        "id": "DhE1_tkyxZD2"
      },
      "execution_count": null,
      "outputs": []
    },
    {
      "cell_type": "code",
      "source": [
        "vocabulary_reshaped"
      ],
      "metadata": {
        "colab": {
          "base_uri": "https://localhost:8080/"
        },
        "id": "_YBOFBq2xfRO",
        "outputId": "9ff97a90-4f9c-4f2c-eb0a-31c4d1b55623"
      },
      "execution_count": null,
      "outputs": [
        {
          "output_type": "execute_result",
          "data": {
            "text/plain": [
              "array([['Natural'],\n",
              "       ['Language'],\n",
              "       ['Processing'],\n",
              "       ['for'],\n",
              "       ['Text'],\n",
              "       ['and'],\n",
              "       ['Speech']], dtype='<U10')"
            ]
          },
          "metadata": {},
          "execution_count": 4
        }
      ]
    },
    {
      "cell_type": "code",
      "source": [
        "one_hot_encoder = OneHotEncoder(sparse=False)"
      ],
      "metadata": {
        "id": "M-qos58kxhAY"
      },
      "execution_count": null,
      "outputs": []
    },
    {
      "cell_type": "code",
      "source": [
        "one_hot_encoded = one_hot_encoder.fit_transform(vocabulary_reshaped)"
      ],
      "metadata": {
        "colab": {
          "base_uri": "https://localhost:8080/"
        },
        "id": "gBtcqGpnxo_J",
        "outputId": "379e595f-9fad-427c-ab17-48548b8b3593"
      },
      "execution_count": null,
      "outputs": [
        {
          "output_type": "stream",
          "name": "stderr",
          "text": [
            "/usr/local/lib/python3.10/dist-packages/sklearn/preprocessing/_encoders.py:868: FutureWarning: `sparse` was renamed to `sparse_output` in version 1.2 and will be removed in 1.4. `sparse_output` is ignored unless you leave `sparse` to its default value.\n",
            "  warnings.warn(\n"
          ]
        }
      ]
    },
    {
      "cell_type": "code",
      "source": [
        "one_hot_encoded"
      ],
      "metadata": {
        "colab": {
          "base_uri": "https://localhost:8080/"
        },
        "id": "ThqcLeC3xwkK",
        "outputId": "e873392f-62e8-42ce-ab2f-c8302f40e51c"
      },
      "execution_count": null,
      "outputs": [
        {
          "output_type": "execute_result",
          "data": {
            "text/plain": [
              "array([[0., 1., 0., 0., 0., 0., 0.],\n",
              "       [1., 0., 0., 0., 0., 0., 0.],\n",
              "       [0., 0., 1., 0., 0., 0., 0.],\n",
              "       [0., 0., 0., 0., 0., 0., 1.],\n",
              "       [0., 0., 0., 0., 1., 0., 0.],\n",
              "       [0., 0., 0., 0., 0., 1., 0.],\n",
              "       [0., 0., 0., 1., 0., 0., 0.]])"
            ]
          },
          "metadata": {},
          "execution_count": 7
        }
      ]
    },
    {
      "cell_type": "code",
      "source": [
        "for word,vector in zip(vocabulary, one_hot_encoded):\n",
        "    print(word, vector)"
      ],
      "metadata": {
        "colab": {
          "base_uri": "https://localhost:8080/"
        },
        "id": "LG6HxgPKxx1w",
        "outputId": "e896b2e5-4414-4dd7-c1bb-c5eaceffda4e"
      },
      "execution_count": null,
      "outputs": [
        {
          "output_type": "stream",
          "name": "stdout",
          "text": [
            "Natural [0. 1. 0. 0. 0. 0. 0.]\n",
            "Language [1. 0. 0. 0. 0. 0. 0.]\n",
            "Processing [0. 0. 1. 0. 0. 0. 0.]\n",
            "for [0. 0. 0. 0. 0. 0. 1.]\n",
            "Text [0. 0. 0. 0. 1. 0. 0.]\n",
            "and [0. 0. 0. 0. 0. 1. 0.]\n",
            "Speech [0. 0. 0. 1. 0. 0. 0.]\n"
          ]
        }
      ]
    },
    {
      "cell_type": "code",
      "source": [],
      "metadata": {
        "id": "OBbzDoPYx_bI"
      },
      "execution_count": null,
      "outputs": []
    }
  ]
}