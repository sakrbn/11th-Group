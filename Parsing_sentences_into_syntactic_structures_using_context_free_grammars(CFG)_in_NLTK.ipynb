{
  "nbformat": 4,
  "nbformat_minor": 0,
  "metadata": {
    "colab": {
      "provenance": [],
      "include_colab_link": true
    },
    "kernelspec": {
      "name": "python3",
      "display_name": "Python 3"
    },
    "language_info": {
      "name": "python"
    }
  },
  "cells": [
    {
      "cell_type": "markdown",
      "metadata": {
        "id": "view-in-github",
        "colab_type": "text"
      },
      "source": [
        "<a href=\"https://colab.research.google.com/github/sakrbn/11th-Group/blob/main/Parsing_sentences_into_syntactic_structures_using_context_free_grammars(CFG)_in_NLTK.ipynb\" target=\"_parent\"><img src=\"https://colab.research.google.com/assets/colab-badge.svg\" alt=\"Open In Colab\"/></a>"
      ]
    },
    {
      "cell_type": "markdown",
      "source": [
        "[NLTK](https://www.nltk.org/)"
      ],
      "metadata": {
        "id": "S4Id0_g5t7eN"
      }
    },
    {
      "cell_type": "code",
      "execution_count": 1,
      "metadata": {
        "id": "DP6qhRw3t2lY"
      },
      "outputs": [],
      "source": [
        "import nltk\n",
        "from nltk.grammar import CFG,Production,Nonterminal"
      ]
    },
    {
      "cell_type": "code",
      "source": [
        "# Define non-terminals\n",
        "S = Nonterminal('S')  # Sentence\n",
        "NP = Nonterminal('NP')  # Noun Phrase\n",
        "VP = Nonterminal('VP')  # Verb Phrase\n",
        "Adj = Nonterminal('Adj')  # Adjective\n",
        "Noun = Nonterminal('Noun')  # Noun\n",
        "Prep = Nonterminal('Prep')  # Preposition\n",
        "Conj = Nonterminal('Conj')  # Conjunction\n",
        "Verb = Nonterminal('Verb')  # Verb"
      ],
      "metadata": {
        "id": "GEDNWHnFvnvF"
      },
      "execution_count": 2,
      "outputs": []
    },
    {
      "cell_type": "code",
      "source": [
        "# Define productions (grammar rules)\n",
        "productions = [\n",
        "    Production(S, [NP, VP]),  # Sentence -> Noun Phrase Verb Phrase\n",
        "    Production(NP, [Adj, Noun, Noun, Prep, Noun, Conj, Noun]),  # Noun Phrase\n",
        "    Production(VP, [Verb, Adj]),  # Verb Phrase -> Verb Adjective\n",
        "    Production(Adj, ['Natural']),\n",
        "    Production(Adj, ['Interesting']),\n",
        "    Production(Noun, ['Language']),\n",
        "    Production(Noun, ['Processing']),\n",
        "    Production(Noun, ['Speech']),\n",
        "    Production(Noun, ['Text']),\n",
        "    Production(Prep, ['for']),\n",
        "    Production(Conj, ['and']),\n",
        "    Production(Verb, ['is']),\n",
        "]"
      ],
      "metadata": {
        "id": "5qhYd99kvrj2"
      },
      "execution_count": 3,
      "outputs": []
    },
    {
      "cell_type": "code",
      "source": [
        "grammar = CFG(start=S, productions=productions)"
      ],
      "metadata": {
        "id": "mJwg0HUivz1C"
      },
      "execution_count": 4,
      "outputs": []
    },
    {
      "cell_type": "code",
      "source": [
        "parser = nltk.RecursiveDescentParser(grammar)"
      ],
      "metadata": {
        "id": "igSbI5Ccv_gp"
      },
      "execution_count": 6,
      "outputs": []
    },
    {
      "cell_type": "code",
      "source": [
        "sentence = \"Natural Language Processing for Speech and Text is Interesting\"\n",
        "tokens = sentence.split()"
      ],
      "metadata": {
        "id": "8iIi3ClYwEie"
      },
      "execution_count": 7,
      "outputs": []
    },
    {
      "cell_type": "code",
      "source": [
        "for tree in parser.parse(tokens):\n",
        "    print(tree)"
      ],
      "metadata": {
        "colab": {
          "base_uri": "https://localhost:8080/"
        },
        "id": "cklablZZwRcj",
        "outputId": "9022d1b0-1b9b-4e52-cc35-bfaa8ffab105"
      },
      "execution_count": 8,
      "outputs": [
        {
          "output_type": "stream",
          "name": "stdout",
          "text": [
            "(S\n",
            "  (NP\n",
            "    (Adj Natural)\n",
            "    (Noun Language)\n",
            "    (Noun Processing)\n",
            "    (Prep for)\n",
            "    (Noun Speech)\n",
            "    (Conj and)\n",
            "    (Noun Text))\n",
            "  (VP (Verb is) (Adj Interesting)))\n"
          ]
        }
      ]
    },
    {
      "cell_type": "code",
      "source": [
        "tree.pretty_print()"
      ],
      "metadata": {
        "colab": {
          "base_uri": "https://localhost:8080/"
        },
        "id": "DCa7G4TrwVtf",
        "outputId": "77b42209-e9b1-432d-bd7d-33913aa40fe9"
      },
      "execution_count": 10,
      "outputs": [
        {
          "output_type": "stream",
          "name": "stdout",
          "text": [
            "                                   S                                  \n",
            "                              _____|____________________               \n",
            "                             NP                         VP            \n",
            "    _________________________|________________      ____|_______       \n",
            "  Adj     Noun      Noun    Prep  Noun  Conj Noun Verb         Adj    \n",
            "   |       |         |       |     |     |    |    |            |      \n",
            "Natural Language Processing for  Speech and  Text  is      Interesting\n",
            "\n"
          ]
        }
      ]
    },
    {
      "cell_type": "code",
      "source": [],
      "metadata": {
        "id": "2hxOKykdwaWv"
      },
      "execution_count": null,
      "outputs": []
    }
  ]
}