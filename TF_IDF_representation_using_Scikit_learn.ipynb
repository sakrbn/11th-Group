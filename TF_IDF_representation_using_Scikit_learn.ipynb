{
  "nbformat": 4,
  "nbformat_minor": 0,
  "metadata": {
    "colab": {
      "provenance": [],
      "include_colab_link": true
    },
    "kernelspec": {
      "name": "python3",
      "display_name": "Python 3"
    },
    "language_info": {
      "name": "python"
    }
  },
  "cells": [
    {
      "cell_type": "markdown",
      "metadata": {
        "id": "view-in-github",
        "colab_type": "text"
      },
      "source": [
        "<a href=\"https://colab.research.google.com/github/sakrbn/11th-Group/blob/main/TF_IDF_representation_using_Scikit_learn.ipynb\" target=\"_parent\"><img src=\"https://colab.research.google.com/assets/colab-badge.svg\" alt=\"Open In Colab\"/></a>"
      ]
    },
    {
      "cell_type": "markdown",
      "source": [
        "[Scikit Learn](https://scikit-learn.org/)"
      ],
      "metadata": {
        "id": "UY5GHj2eZMg5"
      }
    },
    {
      "cell_type": "code",
      "source": [
        "from sklearn.feature_extraction.text import TfidfVectorizer"
      ],
      "metadata": {
        "id": "Im4Uij_AZwMK"
      },
      "execution_count": null,
      "outputs": []
    },
    {
      "cell_type": "code",
      "source": [
        "corpus =[\"Natural Language Processing for Speech and Text​\",\n",
        "\"Language Processing for Natural Speech and Text​\",\n",
        "\"Text and Speech for Natural Language Processing​\"]"
      ],
      "metadata": {
        "id": "PwF5-jHEaL--"
      },
      "execution_count": null,
      "outputs": []
    },
    {
      "cell_type": "code",
      "source": [
        "vectorizer = TfidfVectorizer()"
      ],
      "metadata": {
        "id": "DDloU3ZlaNfV"
      },
      "execution_count": null,
      "outputs": []
    },
    {
      "cell_type": "code",
      "source": [
        "X = vectorizer.fit_transform(corpus)"
      ],
      "metadata": {
        "id": "XtNORvvKaP9Y"
      },
      "execution_count": null,
      "outputs": []
    },
    {
      "cell_type": "code",
      "source": [
        "vectorizer.get_feature_names_out()"
      ],
      "metadata": {
        "colab": {
          "base_uri": "https://localhost:8080/"
        },
        "id": "0vibehYDaTRL",
        "outputId": "c0061c65-3994-4821-833c-e3040accb16d"
      },
      "execution_count": null,
      "outputs": [
        {
          "output_type": "execute_result",
          "data": {
            "text/plain": [
              "array(['and', 'for', 'language', 'natural', 'processing', 'speech',\n",
              "       'text'], dtype=object)"
            ]
          },
          "metadata": {},
          "execution_count": 11
        }
      ]
    },
    {
      "cell_type": "code",
      "source": [
        "X.toarray()"
      ],
      "metadata": {
        "id": "BjPwM0EMaZQn",
        "outputId": "1bbd430a-b95d-40bc-e9a4-59b782a88e09",
        "colab": {
          "base_uri": "https://localhost:8080/"
        }
      },
      "execution_count": null,
      "outputs": [
        {
          "output_type": "execute_result",
          "data": {
            "text/plain": [
              "array([[0.37796447, 0.37796447, 0.37796447, 0.37796447, 0.37796447,\n",
              "        0.37796447, 0.37796447],\n",
              "       [0.37796447, 0.37796447, 0.37796447, 0.37796447, 0.37796447,\n",
              "        0.37796447, 0.37796447],\n",
              "       [0.37796447, 0.37796447, 0.37796447, 0.37796447, 0.37796447,\n",
              "        0.37796447, 0.37796447]])"
            ]
          },
          "metadata": {},
          "execution_count": 12
        }
      ]
    },
    {
      "cell_type": "code",
      "source": [],
      "metadata": {
        "id": "raOIvBPEadcH"
      },
      "execution_count": null,
      "outputs": []
    }
  ]
}