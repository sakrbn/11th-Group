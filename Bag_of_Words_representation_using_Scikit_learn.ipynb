{
  "nbformat": 4,
  "nbformat_minor": 0,
  "metadata": {
    "colab": {
      "provenance": [],
      "include_colab_link": true
    },
    "kernelspec": {
      "name": "python3",
      "display_name": "Python 3"
    },
    "language_info": {
      "name": "python"
    }
  },
  "cells": [
    {
      "cell_type": "markdown",
      "metadata": {
        "id": "view-in-github",
        "colab_type": "text"
      },
      "source": [
        "<a href=\"https://colab.research.google.com/github/sakrbn/11th-Group/blob/main/Bag_of_Words_representation_using_Scikit_learn.ipynb\" target=\"_parent\"><img src=\"https://colab.research.google.com/assets/colab-badge.svg\" alt=\"Open In Colab\"/></a>"
      ]
    },
    {
      "cell_type": "code",
      "source": [
        "from sklearn.feature_extraction.text import CountVectorizer"
      ],
      "metadata": {
        "id": "v1RkqEEYQO0r"
      },
      "execution_count": null,
      "outputs": []
    },
    {
      "cell_type": "code",
      "source": [
        "corpus =[\"Natural Language Processing for Speech and Text​\",\n",
        "\"Language Processing for Natural Speech and Text​\",\n",
        "\"Text and Speech for Natural Language Processing​\"]"
      ],
      "metadata": {
        "id": "n2KTlGi_QUW-"
      },
      "execution_count": null,
      "outputs": []
    },
    {
      "cell_type": "code",
      "source": [
        "vectorizer = CountVectorizer()"
      ],
      "metadata": {
        "id": "f_RenQcqQb9K"
      },
      "execution_count": null,
      "outputs": []
    },
    {
      "cell_type": "code",
      "source": [
        "X = vectorizer.fit_transform(corpus)"
      ],
      "metadata": {
        "id": "5BUkzT9RQeWc"
      },
      "execution_count": null,
      "outputs": []
    },
    {
      "cell_type": "code",
      "source": [
        "vectorizer.get_feature_names_out()"
      ],
      "metadata": {
        "colab": {
          "base_uri": "https://localhost:8080/"
        },
        "id": "6BMKMhUgQkX_",
        "outputId": "384886d2-e2a8-4829-a90f-31282102cb36"
      },
      "execution_count": null,
      "outputs": [
        {
          "output_type": "execute_result",
          "data": {
            "text/plain": [
              "array(['and', 'for', 'language', 'natural', 'processing', 'speech',\n",
              "       'text'], dtype=object)"
            ]
          },
          "metadata": {},
          "execution_count": 6
        }
      ]
    },
    {
      "cell_type": "code",
      "source": [
        "X"
      ],
      "metadata": {
        "colab": {
          "base_uri": "https://localhost:8080/"
        },
        "id": "fI7Vxhl_Qnmd",
        "outputId": "9fdce968-dca8-46b5-b7b7-7df0b9f309dd"
      },
      "execution_count": null,
      "outputs": [
        {
          "output_type": "execute_result",
          "data": {
            "text/plain": [
              "<3x7 sparse matrix of type '<class 'numpy.int64'>'\n",
              "\twith 21 stored elements in Compressed Sparse Row format>"
            ]
          },
          "metadata": {},
          "execution_count": 7
        }
      ]
    },
    {
      "cell_type": "code",
      "source": [
        "for vector in X:\n",
        "    print(vector)"
      ],
      "metadata": {
        "colab": {
          "base_uri": "https://localhost:8080/"
        },
        "id": "osoR8ILSQyRf",
        "outputId": "5bceb872-b5b0-4fe7-c79a-5bb70067ddac"
      },
      "execution_count": null,
      "outputs": [
        {
          "output_type": "stream",
          "name": "stdout",
          "text": [
            "  (0, 3)\t1\n",
            "  (0, 2)\t1\n",
            "  (0, 4)\t1\n",
            "  (0, 1)\t1\n",
            "  (0, 5)\t1\n",
            "  (0, 0)\t1\n",
            "  (0, 6)\t1\n",
            "  (0, 3)\t1\n",
            "  (0, 2)\t1\n",
            "  (0, 4)\t1\n",
            "  (0, 1)\t1\n",
            "  (0, 5)\t1\n",
            "  (0, 0)\t1\n",
            "  (0, 6)\t1\n",
            "  (0, 3)\t1\n",
            "  (0, 2)\t1\n",
            "  (0, 4)\t1\n",
            "  (0, 1)\t1\n",
            "  (0, 5)\t1\n",
            "  (0, 0)\t1\n",
            "  (0, 6)\t1\n"
          ]
        }
      ]
    },
    {
      "cell_type": "code",
      "source": [
        "X.toarray()"
      ],
      "metadata": {
        "id": "6K2HsNcsRBbD",
        "outputId": "5e483922-5b99-4256-ea7a-de99bb63069c",
        "colab": {
          "base_uri": "https://localhost:8080/"
        }
      },
      "execution_count": null,
      "outputs": [
        {
          "output_type": "execute_result",
          "data": {
            "text/plain": [
              "array([[1, 1, 1, 1, 1, 1, 1],\n",
              "       [1, 1, 1, 1, 1, 1, 1],\n",
              "       [1, 1, 1, 1, 1, 1, 1]])"
            ]
          },
          "metadata": {},
          "execution_count": 9
        }
      ]
    },
    {
      "cell_type": "code",
      "source": [],
      "metadata": {
        "id": "gpuMOhgSREWH"
      },
      "execution_count": null,
      "outputs": []
    }
  ]
}